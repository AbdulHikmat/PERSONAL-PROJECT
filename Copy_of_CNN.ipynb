{
  "nbformat": 4,
  "nbformat_minor": 0,
  "metadata": {
    "colab": {
      "provenance": [],
      "authorship_tag": "ABX9TyMRMcnzAbCLCCoQD7n72nqc",
      "include_colab_link": true
    },
    "kernelspec": {
      "name": "python3",
      "display_name": "Python 3"
    },
    "language_info": {
      "name": "python"
    }
  },
  "cells": [
    {
      "cell_type": "markdown",
      "metadata": {
        "id": "view-in-github",
        "colab_type": "text"
      },
      "source": [
        "<a href=\"https://colab.research.google.com/github/AbdulHikmat/PERSONAL-PROJECT/blob/main/Copy_of_CNN.ipynb\" target=\"_parent\"><img src=\"https://colab.research.google.com/assets/colab-badge.svg\" alt=\"Open In Colab\"/></a>"
      ]
    },
    {
      "cell_type": "markdown",
      "source": [
        "## Convolutionary Neural Network Model"
      ],
      "metadata": {
        "id": "GkhLviu4EW66"
      }
    },
    {
      "cell_type": "code",
      "execution_count": null,
      "metadata": {
        "id": "I4Gjcti0veLi"
      },
      "outputs": [],
      "source": [
        "import tensorflow as tf\n",
        "from tensorflow.keras import datasets, layers, models\n",
        "import matplotlib.pyplot as plt\n",
        "import numpy as np\n",
        "import pandas as pd\n",
        "import matplotlib.pyplot as plt\n",
        "%matplotlib inline\n",
        "import seaborn as sns\n",
        "import matplotlib.image as img"
      ]
    },
    {
      "cell_type": "code",
      "source": [
        "(X_train, y_train), (X_test, y_test) = datasets.mnist.load_data()\n",
        "X_train.shape"
      ],
      "metadata": {
        "colab": {
          "base_uri": "https://localhost:8080/"
        },
        "id": "ew3y9IUYIOM0",
        "outputId": "85e136dd-1380-4fde-caba-2165c48fe589"
      },
      "execution_count": null,
      "outputs": [
        {
          "output_type": "execute_result",
          "data": {
            "text/plain": [
              "(60000, 28, 28)"
            ]
          },
          "metadata": {},
          "execution_count": 2
        }
      ]
    },
    {
      "cell_type": "code",
      "source": [
        "X_train.shape"
      ],
      "metadata": {
        "colab": {
          "base_uri": "https://localhost:8080/"
        },
        "id": "6ePYo4grJBw2",
        "outputId": "09d9f7a0-088b-429e-b2f1-d36951b15eda"
      },
      "execution_count": null,
      "outputs": [
        {
          "output_type": "execute_result",
          "data": {
            "text/plain": [
              "(60000, 28, 28)"
            ]
          },
          "metadata": {},
          "execution_count": 3
        }
      ]
    },
    {
      "cell_type": "code",
      "source": [
        "X_test.shape"
      ],
      "metadata": {
        "colab": {
          "base_uri": "https://localhost:8080/"
        },
        "id": "bRM9KJVIKCpf",
        "outputId": "ef61e03c-2a93-4379-feef-99d698eb6fbb"
      },
      "execution_count": null,
      "outputs": [
        {
          "output_type": "execute_result",
          "data": {
            "text/plain": [
              "(10000, 28, 28)"
            ]
          },
          "metadata": {},
          "execution_count": 4
        }
      ]
    },
    {
      "cell_type": "code",
      "source": [
        "X_train[0]"
      ],
      "metadata": {
        "colab": {
          "base_uri": "https://localhost:8080/"
        },
        "id": "JeuhXQ-lKJyx",
        "outputId": "44e6eebe-a9cf-4b2b-abe3-bc6984e2d2aa"
      },
      "execution_count": null,
      "outputs": [
        {
          "output_type": "execute_result",
          "data": {
            "text/plain": [
              "array([[  0,   0,   0,   0,   0,   0,   0,   0,   0,   0,   0,   0,   0,\n",
              "          0,   0,   0,   0,   0,   0,   0,   0,   0,   0,   0,   0,   0,\n",
              "          0,   0],\n",
              "       [  0,   0,   0,   0,   0,   0,   0,   0,   0,   0,   0,   0,   0,\n",
              "          0,   0,   0,   0,   0,   0,   0,   0,   0,   0,   0,   0,   0,\n",
              "          0,   0],\n",
              "       [  0,   0,   0,   0,   0,   0,   0,   0,   0,   0,   0,   0,   0,\n",
              "          0,   0,   0,   0,   0,   0,   0,   0,   0,   0,   0,   0,   0,\n",
              "          0,   0],\n",
              "       [  0,   0,   0,   0,   0,   0,   0,   0,   0,   0,   0,   0,   0,\n",
              "          0,   0,   0,   0,   0,   0,   0,   0,   0,   0,   0,   0,   0,\n",
              "          0,   0],\n",
              "       [  0,   0,   0,   0,   0,   0,   0,   0,   0,   0,   0,   0,   0,\n",
              "          0,   0,   0,   0,   0,   0,   0,   0,   0,   0,   0,   0,   0,\n",
              "          0,   0],\n",
              "       [  0,   0,   0,   0,   0,   0,   0,   0,   0,   0,   0,   0,   3,\n",
              "         18,  18,  18, 126, 136, 175,  26, 166, 255, 247, 127,   0,   0,\n",
              "          0,   0],\n",
              "       [  0,   0,   0,   0,   0,   0,   0,   0,  30,  36,  94, 154, 170,\n",
              "        253, 253, 253, 253, 253, 225, 172, 253, 242, 195,  64,   0,   0,\n",
              "          0,   0],\n",
              "       [  0,   0,   0,   0,   0,   0,   0,  49, 238, 253, 253, 253, 253,\n",
              "        253, 253, 253, 253, 251,  93,  82,  82,  56,  39,   0,   0,   0,\n",
              "          0,   0],\n",
              "       [  0,   0,   0,   0,   0,   0,   0,  18, 219, 253, 253, 253, 253,\n",
              "        253, 198, 182, 247, 241,   0,   0,   0,   0,   0,   0,   0,   0,\n",
              "          0,   0],\n",
              "       [  0,   0,   0,   0,   0,   0,   0,   0,  80, 156, 107, 253, 253,\n",
              "        205,  11,   0,  43, 154,   0,   0,   0,   0,   0,   0,   0,   0,\n",
              "          0,   0],\n",
              "       [  0,   0,   0,   0,   0,   0,   0,   0,   0,  14,   1, 154, 253,\n",
              "         90,   0,   0,   0,   0,   0,   0,   0,   0,   0,   0,   0,   0,\n",
              "          0,   0],\n",
              "       [  0,   0,   0,   0,   0,   0,   0,   0,   0,   0,   0, 139, 253,\n",
              "        190,   2,   0,   0,   0,   0,   0,   0,   0,   0,   0,   0,   0,\n",
              "          0,   0],\n",
              "       [  0,   0,   0,   0,   0,   0,   0,   0,   0,   0,   0,  11, 190,\n",
              "        253,  70,   0,   0,   0,   0,   0,   0,   0,   0,   0,   0,   0,\n",
              "          0,   0],\n",
              "       [  0,   0,   0,   0,   0,   0,   0,   0,   0,   0,   0,   0,  35,\n",
              "        241, 225, 160, 108,   1,   0,   0,   0,   0,   0,   0,   0,   0,\n",
              "          0,   0],\n",
              "       [  0,   0,   0,   0,   0,   0,   0,   0,   0,   0,   0,   0,   0,\n",
              "         81, 240, 253, 253, 119,  25,   0,   0,   0,   0,   0,   0,   0,\n",
              "          0,   0],\n",
              "       [  0,   0,   0,   0,   0,   0,   0,   0,   0,   0,   0,   0,   0,\n",
              "          0,  45, 186, 253, 253, 150,  27,   0,   0,   0,   0,   0,   0,\n",
              "          0,   0],\n",
              "       [  0,   0,   0,   0,   0,   0,   0,   0,   0,   0,   0,   0,   0,\n",
              "          0,   0,  16,  93, 252, 253, 187,   0,   0,   0,   0,   0,   0,\n",
              "          0,   0],\n",
              "       [  0,   0,   0,   0,   0,   0,   0,   0,   0,   0,   0,   0,   0,\n",
              "          0,   0,   0,   0, 249, 253, 249,  64,   0,   0,   0,   0,   0,\n",
              "          0,   0],\n",
              "       [  0,   0,   0,   0,   0,   0,   0,   0,   0,   0,   0,   0,   0,\n",
              "          0,  46, 130, 183, 253, 253, 207,   2,   0,   0,   0,   0,   0,\n",
              "          0,   0],\n",
              "       [  0,   0,   0,   0,   0,   0,   0,   0,   0,   0,   0,   0,  39,\n",
              "        148, 229, 253, 253, 253, 250, 182,   0,   0,   0,   0,   0,   0,\n",
              "          0,   0],\n",
              "       [  0,   0,   0,   0,   0,   0,   0,   0,   0,   0,  24, 114, 221,\n",
              "        253, 253, 253, 253, 201,  78,   0,   0,   0,   0,   0,   0,   0,\n",
              "          0,   0],\n",
              "       [  0,   0,   0,   0,   0,   0,   0,   0,  23,  66, 213, 253, 253,\n",
              "        253, 253, 198,  81,   2,   0,   0,   0,   0,   0,   0,   0,   0,\n",
              "          0,   0],\n",
              "       [  0,   0,   0,   0,   0,   0,  18, 171, 219, 253, 253, 253, 253,\n",
              "        195,  80,   9,   0,   0,   0,   0,   0,   0,   0,   0,   0,   0,\n",
              "          0,   0],\n",
              "       [  0,   0,   0,   0,  55, 172, 226, 253, 253, 253, 253, 244, 133,\n",
              "         11,   0,   0,   0,   0,   0,   0,   0,   0,   0,   0,   0,   0,\n",
              "          0,   0],\n",
              "       [  0,   0,   0,   0, 136, 253, 253, 253, 212, 135, 132,  16,   0,\n",
              "          0,   0,   0,   0,   0,   0,   0,   0,   0,   0,   0,   0,   0,\n",
              "          0,   0],\n",
              "       [  0,   0,   0,   0,   0,   0,   0,   0,   0,   0,   0,   0,   0,\n",
              "          0,   0,   0,   0,   0,   0,   0,   0,   0,   0,   0,   0,   0,\n",
              "          0,   0],\n",
              "       [  0,   0,   0,   0,   0,   0,   0,   0,   0,   0,   0,   0,   0,\n",
              "          0,   0,   0,   0,   0,   0,   0,   0,   0,   0,   0,   0,   0,\n",
              "          0,   0],\n",
              "       [  0,   0,   0,   0,   0,   0,   0,   0,   0,   0,   0,   0,   0,\n",
              "          0,   0,   0,   0,   0,   0,   0,   0,   0,   0,   0,   0,   0,\n",
              "          0,   0]], dtype=uint8)"
            ]
          },
          "metadata": {},
          "execution_count": 5
        }
      ]
    },
    {
      "cell_type": "code",
      "source": [
        "X_train[0].shape"
      ],
      "metadata": {
        "colab": {
          "base_uri": "https://localhost:8080/"
        },
        "id": "HRNJ-XL8KR-_",
        "outputId": "b371002c-44c0-482d-e6ef-f658db124f03"
      },
      "execution_count": null,
      "outputs": [
        {
          "output_type": "execute_result",
          "data": {
            "text/plain": [
              "(28, 28)"
            ]
          },
          "metadata": {},
          "execution_count": 6
        }
      ]
    },
    {
      "cell_type": "code",
      "source": [
        "y_train.shape"
      ],
      "metadata": {
        "colab": {
          "base_uri": "https://localhost:8080/"
        },
        "id": "yXBOJURTKbBE",
        "outputId": "48d401f4-c13f-4f8b-aebb-e23c64200ca3"
      },
      "execution_count": null,
      "outputs": [
        {
          "output_type": "execute_result",
          "data": {
            "text/plain": [
              "(60000,)"
            ]
          },
          "metadata": {},
          "execution_count": 7
        }
      ]
    },
    {
      "cell_type": "code",
      "source": [
        "y_test.shape"
      ],
      "metadata": {
        "colab": {
          "base_uri": "https://localhost:8080/"
        },
        "id": "nTKR0VTHKoJv",
        "outputId": "612af5a9-40b3-45f1-da4c-1ad24a98eb58"
      },
      "execution_count": null,
      "outputs": [
        {
          "output_type": "execute_result",
          "data": {
            "text/plain": [
              "(10000,)"
            ]
          },
          "metadata": {},
          "execution_count": 8
        }
      ]
    },
    {
      "cell_type": "code",
      "source": [
        "y_train[0]"
      ],
      "metadata": {
        "colab": {
          "base_uri": "https://localhost:8080/"
        },
        "id": "4apMf8rBKsYU",
        "outputId": "101c7e99-e358-4e79-ab31-49fe49dbdfc9"
      },
      "execution_count": null,
      "outputs": [
        {
          "output_type": "execute_result",
          "data": {
            "text/plain": [
              "5"
            ]
          },
          "metadata": {},
          "execution_count": 9
        }
      ]
    },
    {
      "cell_type": "code",
      "source": [
        "y_train[:5]"
      ],
      "metadata": {
        "colab": {
          "base_uri": "https://localhost:8080/"
        },
        "id": "LpUr7m32K3do",
        "outputId": "5045aad5-13db-4be5-9ca2-3363ed3c78d6"
      },
      "execution_count": null,
      "outputs": [
        {
          "output_type": "execute_result",
          "data": {
            "text/plain": [
              "array([5, 0, 4, 1, 9], dtype=uint8)"
            ]
          },
          "metadata": {},
          "execution_count": 10
        }
      ]
    },
    {
      "cell_type": "code",
      "source": [],
      "metadata": {
        "id": "L4xO7ctGSc_5"
      },
      "execution_count": null,
      "outputs": []
    },
    {
      "cell_type": "code",
      "source": [
        "plt.figure(figsize = (13, 2))\n",
        "plt.imshow(X_train[0])"
      ],
      "metadata": {
        "colab": {
          "base_uri": "https://localhost:8080/",
          "height": 234
        },
        "id": "JllWEmZFSdTJ",
        "outputId": "870dfe49-36ec-4744-8def-8d25fd518b3d"
      },
      "execution_count": null,
      "outputs": [
        {
          "output_type": "execute_result",
          "data": {
            "text/plain": [
              "<matplotlib.image.AxesImage at 0x7822b132ba00>"
            ]
          },
          "metadata": {},
          "execution_count": 11
        },
        {
          "output_type": "display_data",
          "data": {
            "text/plain": [
              "<Figure size 1300x200 with 1 Axes>"
            ],
            "image/png": "[encoded data removed]"
          },
          "metadata": {}
        }
      ]
    },
    {
      "cell_type": "code",
      "source": [
        "plt.figure(figsize = (13, 2))\n",
        "plt.imshow(X_train[1])"
      ],
      "metadata": {
        "colab": {
          "base_uri": "https://localhost:8080/",
          "height": 234
        },
        "id": "ysNhDnn2TF3H",
        "outputId": "56b94139-c7a2-46d0-ed8e-e0acfb080ef8"
      },
      "execution_count": null,
      "outputs": [
        {
          "output_type": "execute_result",
          "data": {
            "text/plain": [
              "<matplotlib.image.AxesImage at 0x7822ade35810>"
            ]
          },
          "metadata": {},
          "execution_count": 12
        },
        {
          "output_type": "display_data",
          "data": {
            "text/plain": [
              "<Figure size 1300x200 with 1 Axes>"
            ],
            "image/png": "[encoded data removed]"
          },
          "metadata": {}
        }
      ]
    },
    {
      "cell_type": "markdown",
      "source": [
        "### Normalisation (Scaling the input values)"
      ],
      "metadata": {
        "id": "wWQkD7gKOmao"
      }
    },
    {
      "cell_type": "markdown",
      "source": [
        "The normalization that'll be used now is a form of Min-Max scaling, which is a common method to scale input values to a specific range. Specifically, it scales the pixel values from the original range of [0, 255] to the normalized range of [0, 1].\n",
        "To normalize the data, each pixel values has to be divided by 255, for each of the channels(R, G and B)"
      ],
      "metadata": {
        "id": "Geb61llDQzfT"
      }
    },
    {
      "cell_type": "code",
      "source": [
        "X_train = X_train / 255\n",
        "X_test = X_test /255"
      ],
      "metadata": {
        "id": "05uEr-HCTETh"
      },
      "execution_count": null,
      "outputs": []
    },
    {
      "cell_type": "markdown",
      "source": [
        "## CNN"
      ],
      "metadata": {
        "id": "rul3jSe8Wvpq"
      }
    },
    {
      "cell_type": "code",
      "source": [
        "cnn = tf.keras.Sequential([\n",
        "   # cnn\n",
        "   layers.Conv2D(filters=32, kernel_size=(3,3), activation = 'relu', input_shape=(28, 28, 1)),\n",
        "   layers.MaxPooling2D((2, 2)),\n",
        "\n",
        "   layers.Conv2D(filters=64, kernel_size=(3,3), activation = 'relu'),\n",
        "   layers.MaxPooling2D((2, 2)),\n",
        "\n",
        "   # dense\n",
        "   layers.Flatten(),\n",
        "   layers.Dense(64, activation='relu'),\n",
        "   layers.Dense(10, activation='softmax')\n",
        "])"
      ],
      "metadata": {
        "id": "1g4Agff6TpKJ"
      },
      "execution_count": null,
      "outputs": []
    },
    {
      "cell_type": "markdown",
      "source": [
        "### Optimizer\n",
        "\n",
        "The optimizer is a crucial component in training Convolutional Neural Networks (CNNs) and other deep learning models. The optimizer is responsible for adjusting the model's weights during training in order to minimize the loss function.\n",
        "\n",
        "Adam optimization algorithm is used here. It is an adaptive learning rate optimization algorithm. It combines the advantages of both Adagrad and RMSprop. It adjusts the learning rates for each parameter individually, allowing for dynamic adaptation during training."
      ],
      "metadata": {
        "id": "afzcJnOipsom"
      }
    },
    {
      "cell_type": "code",
      "source": [
        "cnn.compile(optimizer = 'adam',\n",
        "              loss = 'sparse_categorical_crossentropy',\n",
        "              metrics = ['accuracy'])"
      ],
      "metadata": {
        "id": "8fdwWoN-TabQ"
      },
      "execution_count": null,
      "outputs": []
    },
    {
      "cell_type": "code",
      "source": [
        "# Train the model\n",
        "history = cnn.fit(X_train.reshape(-1, 28, 28, 1), y_train, epochs=10, validation_split=0.2)"
      ],
      "metadata": {
        "colab": {
          "base_uri": "https://localhost:8080/"
        },
        "id": "apudgNAAit1V",
        "outputId": "a9b20b88-2992-4a0f-b951-d54611aa124b"
      },
      "execution_count": null,
      "outputs": [
        {
          "output_type": "stream",
          "name": "stdout",
          "text": [
            "Epoch 1/10\n",
            "1500/1500 [==============================] - 65s 43ms/step - loss: 0.1726 - accuracy: 0.9472 - val_loss: 0.0669 - val_accuracy: 0.9821\n",
            "Epoch 2/10\n",
            "1500/1500 [==============================] - 50s 33ms/step - loss: 0.0537 - accuracy: 0.9833 - val_loss: 0.0535 - val_accuracy: 0.9838\n",
            "Epoch 3/10\n",
            "1500/1500 [==============================] - 49s 32ms/step - loss: 0.0382 - accuracy: 0.9879 - val_loss: 0.0452 - val_accuracy: 0.9869\n",
            "Epoch 4/10\n",
            "1500/1500 [==============================] - 50s 33ms/step - loss: 0.0278 - accuracy: 0.9910 - val_loss: 0.0403 - val_accuracy: 0.9875\n",
            "Epoch 5/10\n",
            "1500/1500 [==============================] - 50s 33ms/step - loss: 0.0214 - accuracy: 0.9936 - val_loss: 0.0413 - val_accuracy: 0.9887\n",
            "Epoch 6/10\n",
            "1500/1500 [==============================] - 48s 32ms/step - loss: 0.0157 - accuracy: 0.9949 - val_loss: 0.0419 - val_accuracy: 0.9885\n",
            "Epoch 7/10\n",
            "1500/1500 [==============================] - 47s 32ms/step - loss: 0.0114 - accuracy: 0.9962 - val_loss: 0.0477 - val_accuracy: 0.9880\n",
            "Epoch 8/10\n",
            "1500/1500 [==============================] - 49s 33ms/step - loss: 0.0109 - accuracy: 0.9965 - val_loss: 0.0440 - val_accuracy: 0.9890\n",
            "Epoch 9/10\n",
            "1500/1500 [==============================] - 49s 33ms/step - loss: 0.0088 - accuracy: 0.9973 - val_loss: 0.0458 - val_accuracy: 0.9894\n",
            "Epoch 10/10\n",
            "1500/1500 [==============================] - 47s 31ms/step - loss: 0.0083 - accuracy: 0.9971 - val_loss: 0.0518 - val_accuracy: 0.9879\n"
          ]
        }
      ]
    },
    {
      "cell_type": "markdown",
      "source": [
        "### Assessing Overfitting\n",
        "This is done by annalyzing the trainig and validationmetric"
      ],
      "metadata": {
        "id": "6erArOFDrDzh"
      }
    },
    {
      "cell_type": "code",
      "source": [
        "# Plot training & validation loss values\n",
        "plt.plot(history.history['loss'])\n",
        "plt.plot(history.history['val_loss'])\n",
        "plt.title('Model loss')\n",
        "plt.xlabel('Epoch')\n",
        "plt.ylabel('Loss')\n",
        "plt.legend(['Train', 'Validation'], loc='upper right')\n",
        "plt.show()\n",
        "\n",
        "# Plot training & validation accuracy values\n",
        "plt.plot(history.history['accuracy'])\n",
        "plt.plot(history.history['val_accuracy'])\n",
        "plt.title('Model accuracy')\n",
        "plt.xlabel('Epoch')\n",
        "plt.ylabel('Accuracy')\n",
        "plt.legend(['Train', 'Validation'], loc='lower right')\n",
        "plt.show()"
      ],
      "metadata": {
        "colab": {
          "base_uri": "https://localhost:8080/",
          "height": 927
        },
        "id": "mB5ZgA7NkuGS",
        "outputId": "23a57b87-459a-4179-b638-f538801983c7"
      },
      "execution_count": null,
      "outputs": [
        {
          "output_type": "display_data",
          "data": {
            "text/plain": [
              "<Figure size 640x480 with 1 Axes>"
            ],
            "image/png": "[encoded data removed]"
          },
          "metadata": {}
        },
        {
          "output_type": "display_data",
          "data": {
            "text/plain": [
              "<Figure size 640x480 with 1 Axes>"
            ],
            "image/png": "[encoded data removed]"
          },
          "metadata": {}
        }
      ]
    },
    {
      "cell_type": "markdown",
      "source": [
        "#### To reduce overfitting in a Convolutional Neural Network trained model, the following procedure will be carried out\n"
      ],
      "metadata": {
        "id": "aj_zjRmut78q"
      }
    },
    {
      "cell_type": "markdown",
      "source": [
        "The graphical reptresentation above shows that the model is overfitting.\n",
        "\n",
        " Overfitting occurs if the training loss continues to decrease, but the validation loss starts to increase or plateau, and the training accuracy significantly outpaces the validation accuracy, it suggests overfitting"
      ],
      "metadata": {
        "id": "5E9qGG7dtEdC"
      }
    },
    {
      "cell_type": "markdown",
      "source": [
        "1. Data Augmentation:\n",
        "\n",
        "Generate additional training examples by applying random transformations to the existing data, such as rotation, zooming, and horizontal flipping. This helps the model generalize better to unseen variations of the input data."
      ],
      "metadata": {
        "id": "AVMByq8quy0A"
      }
    },
    {
      "cell_type": "code",
      "source": [
        "from tensorflow.keras.preprocessing.image import ImageDataGenerator\n",
        "\n",
        "datagen = ImageDataGenerator(rotation_range=10, zoom_range=0.1, horizontal_flip=True)"
      ],
      "metadata": {
        "id": "37OPQ9ohu8yf"
      },
      "execution_count": null,
      "outputs": []
    },
    {
      "cell_type": "markdown",
      "source": [
        "2. Dropout:\n",
        "\n",
        "Introduce dropout layers in the model to randomly deactivate a fraction of neurons during training. This helps prevent the model from relying too heavily on specific neurons, promoting more robust learning."
      ],
      "metadata": {
        "id": "WsqTNGA7vI7T"
      }
    },
    {
      "cell_type": "code",
      "source": [
        "from tensorflow.keras.layers import Dropout\n",
        "\n",
        "\n",
        "cnn.add(Dropout(0.25))  # 25% of neurons will be deactivated during training"
      ],
      "metadata": {
        "id": "I6ZA_hIevE_a"
      },
      "execution_count": null,
      "outputs": []
    },
    {
      "cell_type": "markdown",
      "source": [
        "3. Weight Regularization:\n",
        "\n",
        "Apply L1 or L2 regularization to the model's weights. This adds a penalty term to the loss function based on the magnitude of the weights, discouraging overly complex models."
      ],
      "metadata": {
        "id": "9JvHMfw6v9NP"
      }
    },
    {
      "cell_type": "code",
      "source": [
        " from tensorflow.keras import regularizers\n",
        "\n",
        " layers.Conv2D(filters=32, kernel_size=(3,3), activation = 'relu', input_shape=(28, 28, 1),  kernel_regularizer=regularizers.l2(0.01))"
      ],
      "metadata": {
        "colab": {
          "base_uri": "https://localhost:8080/"
        },
        "id": "AU8t_pYhLLWi",
        "outputId": "46a07698-4ff6-4e63-81b2-4b0af2176736"
      },
      "execution_count": null,
      "outputs": [
        {
          "output_type": "execute_result",
          "data": {
            "text/plain": [
              "<keras.src.layers.convolutional.conv2d.Conv2D at 0x7822ae4e35e0>"
            ]
          },
          "metadata": {},
          "execution_count": 26
        }
      ]
    },
    {
      "cell_type": "markdown",
      "source": [
        "Checking for overfitting again"
      ],
      "metadata": {
        "id": "_9AV716kzgGt"
      }
    },
    {
      "cell_type": "code",
      "source": [
        "# retrain the model\n",
        "history = cnn.fit(X_train.reshape(-1, 28, 28, 1), y_train, epochs=10, validation_split=0.2)"
      ],
      "metadata": {
        "colab": {
          "base_uri": "https://localhost:8080/"
        },
        "id": "rp03t_jjzdfs",
        "outputId": "ac2e5145-9051-486c-e766-3892dd22cbf3"
      },
      "execution_count": null,
      "outputs": [
        {
          "output_type": "stream",
          "name": "stdout",
          "text": [
            "Epoch 1/10\n",
            "1500/1500 [==============================] - 52s 35ms/step - loss: 0.0070 - accuracy: 0.9974 - val_loss: 0.0516 - val_accuracy: 0.9890\n",
            "Epoch 2/10\n",
            "1500/1500 [==============================] - 47s 31ms/step - loss: 0.0057 - accuracy: 0.9982 - val_loss: 0.0544 - val_accuracy: 0.9883\n",
            "Epoch 3/10\n",
            "1500/1500 [==============================] - 48s 32ms/step - loss: 0.0048 - accuracy: 0.9985 - val_loss: 0.0484 - val_accuracy: 0.9898\n",
            "Epoch 4/10\n",
            "1500/1500 [==============================] - 48s 32ms/step - loss: 0.0065 - accuracy: 0.9978 - val_loss: 0.0476 - val_accuracy: 0.9904\n",
            "Epoch 5/10\n",
            "1500/1500 [==============================] - 48s 32ms/step - loss: 0.0035 - accuracy: 0.9989 - val_loss: 0.0559 - val_accuracy: 0.9904\n",
            "Epoch 6/10\n",
            "1500/1500 [==============================] - 48s 32ms/step - loss: 0.0048 - accuracy: 0.9985 - val_loss: 0.0541 - val_accuracy: 0.9899\n",
            "Epoch 7/10\n",
            "1500/1500 [==============================] - 46s 31ms/step - loss: 0.0029 - accuracy: 0.9990 - val_loss: 0.0560 - val_accuracy: 0.9904\n",
            "Epoch 8/10\n",
            "1500/1500 [==============================] - 48s 32ms/step - loss: 0.0043 - accuracy: 0.9985 - val_loss: 0.0544 - val_accuracy: 0.9911\n",
            "Epoch 9/10\n",
            "1500/1500 [==============================] - 48s 32ms/step - loss: 0.0036 - accuracy: 0.9988 - val_loss: 0.0597 - val_accuracy: 0.9898\n",
            "Epoch 10/10\n",
            "1500/1500 [==============================] - 48s 32ms/step - loss: 0.0034 - accuracy: 0.9989 - val_loss: 0.0549 - val_accuracy: 0.9914\n"
          ]
        }
      ]
    },
    {
      "cell_type": "code",
      "source": [
        "# Plot training & validation loss values\n",
        "plt.plot(history.history['loss'])\n",
        "plt.plot(history.history['val_loss'])\n",
        "plt.title('Model loss')\n",
        "plt.xlabel('Epoch')\n",
        "plt.ylabel('Loss')\n",
        "plt.legend(['Train', 'Validation'], loc='upper right')\n",
        "plt.show()\n",
        "\n",
        "# Plot training & validation accuracy values\n",
        "plt.plot(history.history['accuracy'])\n",
        "plt.plot(history.history['val_accuracy'])\n",
        "plt.title('Model accuracy')\n",
        "plt.xlabel('Epoch')\n",
        "plt.ylabel('Accuracy')\n",
        "plt.legend(['Train', 'Validation'], loc='lower right')\n",
        "plt.show()"
      ],
      "metadata": {
        "colab": {
          "base_uri": "https://localhost:8080/",
          "height": 927
        },
        "id": "CzNHAQQY3vUU",
        "outputId": "f6f58432-c7b4-4fd1-d4e9-bcc5beaf83c3"
      },
      "execution_count": null,
      "outputs": [
        {
          "output_type": "display_data",
          "data": {
            "text/plain": [
              "<Figure size 640x480 with 1 Axes>"
            ],
            "image/png": "[encoded data removed]"
          },
          "metadata": {}
        },
        {
          "output_type": "display_data",
          "data": {
            "text/plain": [
              "<Figure size 640x480 with 1 Axes>"
            ],
            "image/png": "[encoded data removed]"
          },
          "metadata": {}
        }
      ]
    },
    {
      "cell_type": "markdown",
      "source": [
        "The above graphical representation shows that the model is not overfitting"
      ],
      "metadata": {
        "id": "F84DIacs33oR"
      }
    },
    {
      "cell_type": "code",
      "source": [],
      "metadata": {
        "id": "NPzsE_ms44NR"
      },
      "execution_count": null,
      "outputs": []
    },
    {
      "cell_type": "code",
      "source": [
        "\n",
        "plt.figure(figsize = (13, 2))\n",
        "plt.imshow(X_test[0])"
      ],
      "metadata": {
        "colab": {
          "base_uri": "https://localhost:8080/",
          "height": 234
        },
        "id": "2phjzreGdDYJ",
        "outputId": "7a2bfca5-215d-4a28-d0f1-a50366ca1212"
      },
      "execution_count": null,
      "outputs": [
        {
          "output_type": "execute_result",
          "data": {
            "text/plain": [
              "<matplotlib.image.AxesImage at 0x7822abcbbe20>"
            ]
          },
          "metadata": {},
          "execution_count": 33
        },
        {
          "output_type": "display_data",
          "data": {
            "text/plain": [
              "<Figure size 1300x200 with 1 Axes>"
            ],
            "image/png": "[encoded data removed]"
          },
          "metadata": {}
        }
      ]
    },
    {
      "cell_type": "code",
      "source": [
        "plt.figure(figsize = (13, 2))\n",
        "plt.imshow(X_test[1])"
      ],
      "metadata": {
        "colab": {
          "base_uri": "https://localhost:8080/",
          "height": 234
        },
        "id": "4mN8hJuTZWfR",
        "outputId": "03f44aa8-e864-469b-8885-78c65de5a489"
      },
      "execution_count": null,
      "outputs": [
        {
          "output_type": "execute_result",
          "data": {
            "text/plain": [
              "<matplotlib.image.AxesImage at 0x7822886f5030>"
            ]
          },
          "metadata": {},
          "execution_count": 35
        },
        {
          "output_type": "display_data",
          "data": {
            "text/plain": [
              "<Figure size 1300x200 with 1 Axes>"
            ],
            "image/png": "[encoded data removed]"
          },
          "metadata": {}
        }
      ]
    },
    {
      "cell_type": "code",
      "source": [],
      "metadata": {
        "id": "0wnmuanThJfM"
      },
      "execution_count": null,
      "outputs": []
    },
    {
      "cell_type": "code",
      "source": [],
      "metadata": {
        "id": "SpqmO99XejIh"
      },
      "execution_count": null,
      "outputs": []
    },
    {
      "cell_type": "code",
      "source": [],
      "metadata": {
        "id": "1XAJtpjKgRJE"
      },
      "execution_count": null,
      "outputs": []
    }
  ]
}