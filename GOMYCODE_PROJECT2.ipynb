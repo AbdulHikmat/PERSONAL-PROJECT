{
 "cells": [
  {
   "cell_type": "markdown",
   "id": "462550e5",
   "metadata": {},
   "source": [
    "##### 1.Write a program that will find all numbers which are divisible by 7 but are not a multiple of 5, between 2000 annd 3200(both included). The numbers obtained should be printed in a list"
   ]
  },
  {
   "cell_type": "code",
   "execution_count": 5,
   "id": "c42c4244",
   "metadata": {},
   "outputs": [
    {
     "name": "stdout",
     "output_type": "stream",
     "text": [
      "2002\n",
      "2009\n",
      "2016\n",
      "2023\n",
      "2037\n",
      "2044\n",
      "2051\n",
      "2058\n",
      "2072\n",
      "2079\n",
      "2086\n",
      "2093\n",
      "2107\n",
      "2114\n",
      "2121\n",
      "2128\n",
      "2142\n",
      "2149\n",
      "2156\n",
      "2163\n",
      "2177\n",
      "2184\n",
      "2191\n",
      "2198\n",
      "2212\n",
      "2219\n",
      "2226\n",
      "2233\n",
      "2247\n",
      "2254\n",
      "2261\n",
      "2268\n",
      "2282\n",
      "2289\n",
      "2296\n",
      "2303\n",
      "2317\n",
      "2324\n",
      "2331\n",
      "2338\n",
      "2352\n",
      "2359\n",
      "2366\n",
      "2373\n",
      "2387\n",
      "2394\n",
      "2401\n",
      "2408\n",
      "2422\n",
      "2429\n",
      "2436\n",
      "2443\n",
      "2457\n",
      "2464\n",
      "2471\n",
      "2478\n",
      "2492\n",
      "2499\n",
      "2506\n",
      "2513\n",
      "2527\n",
      "2534\n",
      "2541\n",
      "2548\n",
      "2562\n",
      "2569\n",
      "2576\n",
      "2583\n",
      "2597\n",
      "2604\n",
      "2611\n",
      "2618\n",
      "2632\n",
      "2639\n",
      "2646\n",
      "2653\n",
      "2667\n",
      "2674\n",
      "2681\n",
      "2688\n",
      "2702\n",
      "2709\n",
      "2716\n",
      "2723\n",
      "2737\n",
      "2744\n",
      "2751\n",
      "2758\n",
      "2772\n",
      "2779\n",
      "2786\n",
      "2793\n",
      "2807\n",
      "2814\n",
      "2821\n",
      "2828\n",
      "2842\n",
      "2849\n",
      "2856\n",
      "2863\n",
      "2877\n",
      "2884\n",
      "2891\n",
      "2898\n",
      "2912\n",
      "2919\n",
      "2926\n",
      "2933\n",
      "2947\n",
      "2954\n",
      "2961\n",
      "2968\n",
      "2982\n",
      "2989\n",
      "2996\n",
      "3003\n",
      "3017\n",
      "3024\n",
      "3031\n",
      "3038\n",
      "3052\n",
      "3059\n",
      "3066\n",
      "3073\n",
      "3087\n",
      "3094\n",
      "3101\n",
      "3108\n",
      "3122\n",
      "3129\n",
      "3136\n",
      "3143\n",
      "3157\n",
      "3164\n",
      "3171\n",
      "3178\n",
      "3192\n",
      "3199\n"
     ]
    }
   ],
   "source": [
    "for i in range(2000, 3201):\n",
    "    if i % 7 == 0 and i % 5 != 0:\n",
    "        print(i)"
   ]
  },
  {
   "cell_type": "markdown",
   "id": "eb4bb31b",
   "metadata": {},
   "source": [
    "##### 2.Write a program that can compute the factorial of a given number. 2."
   ]
  },
  {
   "cell_type": "code",
   "execution_count": 11,
   "id": "29580466",
   "metadata": {},
   "outputs": [],
   "source": [
    "total = 1"
   ]
  },
  {
   "cell_type": "code",
   "execution_count": 14,
   "id": "895c3c38",
   "metadata": {},
   "outputs": [],
   "source": [
    "for nums in range(1, 6):\n",
    "    total = total * nums"
   ]
  },
  {
   "cell_type": "code",
   "execution_count": 15,
   "id": "9a48bf52",
   "metadata": {},
   "outputs": [
    {
     "data": {
      "text/plain": [
       "120"
      ]
     },
     "execution_count": 15,
     "metadata": {},
     "output_type": "execute_result"
    }
   ],
   "source": [
    "total"
   ]
  },
  {
   "cell_type": "markdown",
   "id": "0522fbea",
   "metadata": {},
   "source": [
    "##### 3. With a given integer n, write a prgram to generate a dictionary that contains(i  * i  * i) such that it is an integral number between 1 and n(both included). Then, the program should print the dictionary. Suppose the following input is supplied to the program: 8 Then, the output should be: {1: 1, 2: 4, 3: 9, 4: 16, 5: 25, 6: 36, 7: 49, 8: 64}  "
   ]
  },
  {
   "cell_type": "code",
   "execution_count": 55,
   "id": "87ba49bb",
   "metadata": {},
   "outputs": [
    {
     "data": {
      "text/plain": [
       "{1: 1, 2: 4, 3: 9, 4: 16, 5: 25, 6: 36, 7: 49}"
      ]
     },
     "execution_count": 55,
     "metadata": {},
     "output_type": "execute_result"
    }
   ],
   "source": [
    "{t : t ** 2 for t in range(1, 8)}"
   ]
  },
  {
   "cell_type": "markdown",
   "id": "fb2e16a9",
   "metadata": {},
   "source": [
    "##### answer"
   ]
  },
  {
   "cell_type": "code",
   "execution_count": 58,
   "id": "6848ae00",
   "metadata": {},
   "outputs": [
    {
     "name": "stdout",
     "output_type": "stream",
     "text": [
      "n:6\n",
      "{1: 1, 2: 4, 3: 9, 4: 16, 5: 25}\n"
     ]
    }
   ],
   "source": [
    "n = int(input('n:'))\n",
    "integral_num = {t : t ** 2 for t in range(1, n)}\n",
    "print(integral_num)"
   ]
  },
  {
   "cell_type": "markdown",
   "id": "60c6152d",
   "metadata": {},
   "source": [
    "#### 4.Given a non-empty string and an integral n, return a new string where the char at index n has been removed. The value of n will be a valid index of a char in the original string (i.e. n will be in the range 0..len(str)-1 inclusive). "
   ]
  },
  {
   "cell_type": "code",
   "execution_count": 101,
   "id": "3013b32a",
   "metadata": {},
   "outputs": [],
   "source": [
    "def missing_char(str, n):\n",
    "    a = str[:n]\n",
    "    b = str[n + 1:]\n",
    "    return a + b"
   ]
  },
  {
   "cell_type": "code",
   "execution_count": 102,
   "id": "fa8654e8",
   "metadata": {},
   "outputs": [
    {
     "data": {
      "text/plain": [
       "'Sureying'"
      ]
     },
     "execution_count": 102,
     "metadata": {},
     "output_type": "execute_result"
    }
   ],
   "source": [
    "missing_char('Surveying', 3)"
   ]
  },
  {
   "cell_type": "markdown",
   "id": "b0fec6cc",
   "metadata": {},
   "source": [
    "##### 5. Write a NumPy program to convert a NumPy array into a Python list structure. Expected output: \n",
    "##### Original array elements: [[0 1] [2 3] [4 5]] \n",
    "##### Array to list: [[0, 1], [2, 3], [4, 5]] "
   ]
  },
  {
   "cell_type": "code",
   "execution_count": 103,
   "id": "74ce8ed7",
   "metadata": {},
   "outputs": [],
   "source": [
    "import numpy as np"
   ]
  },
  {
   "cell_type": "code",
   "execution_count": 106,
   "id": "03970746",
   "metadata": {},
   "outputs": [],
   "source": [
    "arr_elements = np.array([[0, 1],[2, 3],[4, 5]])"
   ]
  },
  {
   "cell_type": "code",
   "execution_count": 107,
   "id": "bb1b8281",
   "metadata": {},
   "outputs": [],
   "source": [
    "list_elements = arr_elements.tolist()"
   ]
  },
  {
   "cell_type": "code",
   "execution_count": 108,
   "id": "90730b64",
   "metadata": {},
   "outputs": [
    {
     "data": {
      "text/plain": [
       "[[0, 1], [2, 3], [4, 5]]"
      ]
     },
     "execution_count": 108,
     "metadata": {},
     "output_type": "execute_result"
    }
   ],
   "source": [
    "list_elements"
   ]
  },
  {
   "cell_type": "markdown",
   "id": "d1e99491",
   "metadata": {},
   "source": [
    "##### 6. Write a NumPy program to compute the covariance matrix of two given arrays. \n",
    "\n",
    "##### Original array1: [0 1 2] \n",
    "\n",
    "##### Original array2: [2 1 0] \n",
    "\n",
    "##### Covariance matrix of the said arrays: [[ 1. -1.] [-1. 1.]]\n",
    " \n",
    "\n",
    "##### Hint: We can use the np.cov() function to calculate the covariance between these two arrays"
   ]
  },
  {
   "cell_type": "code",
   "execution_count": 110,
   "id": "d5831134",
   "metadata": {},
   "outputs": [],
   "source": [
    "a = np.array([0, 1, 2])\n",
    "b = np.array([2, 1, 0])"
   ]
  },
  {
   "cell_type": "code",
   "execution_count": 111,
   "id": "21851134",
   "metadata": {},
   "outputs": [],
   "source": [
    "c = np.cov(a, b)"
   ]
  },
  {
   "cell_type": "code",
   "execution_count": 112,
   "id": "01c48f21",
   "metadata": {},
   "outputs": [
    {
     "data": {
      "text/plain": [
       "array([[ 1., -1.],\n",
       "       [-1.,  1.]])"
      ]
     },
     "execution_count": 112,
     "metadata": {},
     "output_type": "execute_result"
    }
   ],
   "source": [
    "c"
   ]
  },
  {
   "cell_type": "markdown",
   "id": "47620ca2",
   "metadata": {},
   "source": [
    "##### 7: Write a program that calculates and prints the value according to the given formula: Q= Square root of [(2 * C * D)/H] \n",
    "\n",
    "##### The following are the fixed values of C and H: C is 50. H is 30. \n",
    "\n",
    "##### D is the variable whose values should be input into your program in a comma-separated sequence. (That means D contains more than value)\n",
    "##### Example: Let's assume the following comma-separated input sequence is given to the program: 100,150,180 The output of the program should be 18,22,24 "
   ]
  },
  {
   "cell_type": "code",
   "execution_count": 284,
   "id": "c38bb9ae",
   "metadata": {},
   "outputs": [],
   "source": [
    "C = 50\n",
    "H = 30"
   ]
  },
  {
   "cell_type": "code",
   "execution_count": 286,
   "id": "608f451a",
   "metadata": {},
   "outputs": [
    {
     "name": "stdout",
     "output_type": "stream",
     "text": [
      "value D:100, 150, 180\n",
      "18\n",
      "22\n",
      "24\n"
     ]
    }
   ],
   "source": [
    "formular = (input(\"value D:\"))\n",
    "formular = formular.split(',')\n",
    "for D in formular:\n",
    "        Q = int((2 * C * int(D) / H) ** 0.5)\n",
    "        print(f'{Q}')"
   ]
  },
  {
   "cell_type": "markdown",
   "id": "49f83285",
   "metadata": {},
   "source": [
    "##### another method"
   ]
  },
  {
   "cell_type": "code",
   "execution_count": 287,
   "id": "67391341",
   "metadata": {},
   "outputs": [
    {
     "name": "stdout",
     "output_type": "stream",
     "text": [
      "result D: 100, 150, 180\n",
      "[18, 22, 24]\n"
     ]
    }
   ],
   "source": [
    "value = input(\"result D: \")\n",
    "value = value.split(',')\n",
    "\n",
    "value_list = []\n",
    "for D in value:\n",
    "    Q = int((2 * C * int(D) / H) ** 0.5)\n",
    "    value_list.append(Q)\n",
    "\n",
    "print(value_list)"
   ]
  },
  {
   "cell_type": "code",
   "execution_count": null,
   "id": "f8f6b1e5",
   "metadata": {},
   "outputs": [],
   "source": []
  }
 ],
 "metadata": {
  "kernelspec": {
   "display_name": "Python 3 (ipykernel)",
   "language": "python",
   "name": "python3"
  },
  "language_info": {
   "codemirror_mode": {
    "name": "ipython",
    "version": 3
   },
   "file_extension": ".py",
   "mimetype": "text/x-python",
   "name": "python",
   "nbconvert_exporter": "python",
   "pygments_lexer": "ipython3",
   "version": "3.9.7"
  }
 },
 "nbformat": 4,
 "nbformat_minor": 5
}
